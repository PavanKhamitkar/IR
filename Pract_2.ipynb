{
 "cells": [
  {
   "cell_type": "code",
   "execution_count": 1,
   "id": "7b28759c-623a-4f38-b11d-6f7243389eca",
   "metadata": {},
   "outputs": [],
   "source": [
    " import numpy as np\n",
    " import pandas as pd\n",
    " from pgmpy.models import BayesianNetwork\n",
    " from pgmpy.estimators import MaximumLikelihoodEstimator\n",
    " from pgmpy.inference import VariableElimination\n",
    " import matplotlib.pyplot as plt\n",
    " import networkx as nx"
   ]
  },
  {
   "cell_type": "code",
   "execution_count": 3,
   "id": "47956b44-e825-46b6-bdd1-c5828c14493a",
   "metadata": {},
   "outputs": [],
   "source": [
    "# Step 1: Read Cleveland Heart Disease data\n",
    "heartDisease = pd.read_csv('heart.csv')\n",
    "heartDisease = heartDisease.replace('?', np.nan)"
   ]
  },
  {
   "cell_type": "code",
   "execution_count": 6,
   "id": "9dabb8d1-3ce6-4968-a40a-4d22342066d0",
   "metadata": {},
   "outputs": [
    {
     "data": {
      "text/html": [
       "<div>\n",
       "<style scoped>\n",
       "    .dataframe tbody tr th:only-of-type {\n",
       "        vertical-align: middle;\n",
       "    }\n",
       "\n",
       "    .dataframe tbody tr th {\n",
       "        vertical-align: top;\n",
       "    }\n",
       "\n",
       "    .dataframe thead th {\n",
       "        text-align: right;\n",
       "    }\n",
       "</style>\n",
       "<table border=\"1\" class=\"dataframe\">\n",
       "  <thead>\n",
       "    <tr style=\"text-align: right;\">\n",
       "      <th></th>\n",
       "      <th>age</th>\n",
       "      <th>sex</th>\n",
       "      <th>cp</th>\n",
       "      <th>trestbps</th>\n",
       "      <th>chol</th>\n",
       "      <th>fbs</th>\n",
       "      <th>restecg</th>\n",
       "      <th>thalach</th>\n",
       "      <th>exang</th>\n",
       "      <th>oldpeak</th>\n",
       "      <th>slope</th>\n",
       "      <th>ca</th>\n",
       "      <th>thal</th>\n",
       "      <th>target</th>\n",
       "    </tr>\n",
       "  </thead>\n",
       "  <tbody>\n",
       "    <tr>\n",
       "      <th>0</th>\n",
       "      <td>63</td>\n",
       "      <td>1</td>\n",
       "      <td>3</td>\n",
       "      <td>145</td>\n",
       "      <td>233</td>\n",
       "      <td>1</td>\n",
       "      <td>0</td>\n",
       "      <td>150</td>\n",
       "      <td>0</td>\n",
       "      <td>2.3</td>\n",
       "      <td>0</td>\n",
       "      <td>0</td>\n",
       "      <td>1</td>\n",
       "      <td>1</td>\n",
       "    </tr>\n",
       "    <tr>\n",
       "      <th>1</th>\n",
       "      <td>37</td>\n",
       "      <td>1</td>\n",
       "      <td>2</td>\n",
       "      <td>130</td>\n",
       "      <td>250</td>\n",
       "      <td>0</td>\n",
       "      <td>1</td>\n",
       "      <td>187</td>\n",
       "      <td>0</td>\n",
       "      <td>3.5</td>\n",
       "      <td>0</td>\n",
       "      <td>0</td>\n",
       "      <td>2</td>\n",
       "      <td>1</td>\n",
       "    </tr>\n",
       "    <tr>\n",
       "      <th>2</th>\n",
       "      <td>41</td>\n",
       "      <td>0</td>\n",
       "      <td>1</td>\n",
       "      <td>130</td>\n",
       "      <td>204</td>\n",
       "      <td>0</td>\n",
       "      <td>0</td>\n",
       "      <td>172</td>\n",
       "      <td>0</td>\n",
       "      <td>1.4</td>\n",
       "      <td>2</td>\n",
       "      <td>0</td>\n",
       "      <td>2</td>\n",
       "      <td>1</td>\n",
       "    </tr>\n",
       "    <tr>\n",
       "      <th>3</th>\n",
       "      <td>56</td>\n",
       "      <td>1</td>\n",
       "      <td>1</td>\n",
       "      <td>120</td>\n",
       "      <td>236</td>\n",
       "      <td>0</td>\n",
       "      <td>1</td>\n",
       "      <td>178</td>\n",
       "      <td>0</td>\n",
       "      <td>0.8</td>\n",
       "      <td>2</td>\n",
       "      <td>0</td>\n",
       "      <td>2</td>\n",
       "      <td>1</td>\n",
       "    </tr>\n",
       "    <tr>\n",
       "      <th>4</th>\n",
       "      <td>57</td>\n",
       "      <td>0</td>\n",
       "      <td>0</td>\n",
       "      <td>120</td>\n",
       "      <td>354</td>\n",
       "      <td>0</td>\n",
       "      <td>1</td>\n",
       "      <td>163</td>\n",
       "      <td>1</td>\n",
       "      <td>0.6</td>\n",
       "      <td>2</td>\n",
       "      <td>0</td>\n",
       "      <td>2</td>\n",
       "      <td>1</td>\n",
       "    </tr>\n",
       "    <tr>\n",
       "      <th>...</th>\n",
       "      <td>...</td>\n",
       "      <td>...</td>\n",
       "      <td>...</td>\n",
       "      <td>...</td>\n",
       "      <td>...</td>\n",
       "      <td>...</td>\n",
       "      <td>...</td>\n",
       "      <td>...</td>\n",
       "      <td>...</td>\n",
       "      <td>...</td>\n",
       "      <td>...</td>\n",
       "      <td>...</td>\n",
       "      <td>...</td>\n",
       "      <td>...</td>\n",
       "    </tr>\n",
       "    <tr>\n",
       "      <th>298</th>\n",
       "      <td>57</td>\n",
       "      <td>0</td>\n",
       "      <td>0</td>\n",
       "      <td>140</td>\n",
       "      <td>241</td>\n",
       "      <td>0</td>\n",
       "      <td>1</td>\n",
       "      <td>123</td>\n",
       "      <td>1</td>\n",
       "      <td>0.2</td>\n",
       "      <td>1</td>\n",
       "      <td>0</td>\n",
       "      <td>3</td>\n",
       "      <td>0</td>\n",
       "    </tr>\n",
       "    <tr>\n",
       "      <th>299</th>\n",
       "      <td>45</td>\n",
       "      <td>1</td>\n",
       "      <td>3</td>\n",
       "      <td>110</td>\n",
       "      <td>264</td>\n",
       "      <td>0</td>\n",
       "      <td>1</td>\n",
       "      <td>132</td>\n",
       "      <td>0</td>\n",
       "      <td>1.2</td>\n",
       "      <td>1</td>\n",
       "      <td>0</td>\n",
       "      <td>3</td>\n",
       "      <td>0</td>\n",
       "    </tr>\n",
       "    <tr>\n",
       "      <th>300</th>\n",
       "      <td>68</td>\n",
       "      <td>1</td>\n",
       "      <td>0</td>\n",
       "      <td>144</td>\n",
       "      <td>193</td>\n",
       "      <td>1</td>\n",
       "      <td>1</td>\n",
       "      <td>141</td>\n",
       "      <td>0</td>\n",
       "      <td>3.4</td>\n",
       "      <td>1</td>\n",
       "      <td>2</td>\n",
       "      <td>3</td>\n",
       "      <td>0</td>\n",
       "    </tr>\n",
       "    <tr>\n",
       "      <th>301</th>\n",
       "      <td>57</td>\n",
       "      <td>1</td>\n",
       "      <td>0</td>\n",
       "      <td>130</td>\n",
       "      <td>131</td>\n",
       "      <td>0</td>\n",
       "      <td>1</td>\n",
       "      <td>115</td>\n",
       "      <td>1</td>\n",
       "      <td>1.2</td>\n",
       "      <td>1</td>\n",
       "      <td>1</td>\n",
       "      <td>3</td>\n",
       "      <td>0</td>\n",
       "    </tr>\n",
       "    <tr>\n",
       "      <th>302</th>\n",
       "      <td>57</td>\n",
       "      <td>0</td>\n",
       "      <td>1</td>\n",
       "      <td>130</td>\n",
       "      <td>236</td>\n",
       "      <td>0</td>\n",
       "      <td>0</td>\n",
       "      <td>174</td>\n",
       "      <td>0</td>\n",
       "      <td>0.0</td>\n",
       "      <td>1</td>\n",
       "      <td>1</td>\n",
       "      <td>2</td>\n",
       "      <td>0</td>\n",
       "    </tr>\n",
       "  </tbody>\n",
       "</table>\n",
       "<p>303 rows × 14 columns</p>\n",
       "</div>"
      ],
      "text/plain": [
       "     age  sex  cp  trestbps  chol  fbs  restecg  thalach  exang  oldpeak  \\\n",
       "0     63    1   3       145   233    1        0      150      0      2.3   \n",
       "1     37    1   2       130   250    0        1      187      0      3.5   \n",
       "2     41    0   1       130   204    0        0      172      0      1.4   \n",
       "3     56    1   1       120   236    0        1      178      0      0.8   \n",
       "4     57    0   0       120   354    0        1      163      1      0.6   \n",
       "..   ...  ...  ..       ...   ...  ...      ...      ...    ...      ...   \n",
       "298   57    0   0       140   241    0        1      123      1      0.2   \n",
       "299   45    1   3       110   264    0        1      132      0      1.2   \n",
       "300   68    1   0       144   193    1        1      141      0      3.4   \n",
       "301   57    1   0       130   131    0        1      115      1      1.2   \n",
       "302   57    0   1       130   236    0        0      174      0      0.0   \n",
       "\n",
       "     slope  ca  thal  target  \n",
       "0        0   0     1       1  \n",
       "1        0   0     2       1  \n",
       "2        2   0     2       1  \n",
       "3        2   0     2       1  \n",
       "4        2   0     2       1  \n",
       "..     ...  ..   ...     ...  \n",
       "298      1   0     3       0  \n",
       "299      1   0     3       0  \n",
       "300      1   2     3       0  \n",
       "301      1   1     3       0  \n",
       "302      1   1     2       0  \n",
       "\n",
       "[303 rows x 14 columns]"
      ]
     },
     "execution_count": 6,
     "metadata": {},
     "output_type": "execute_result"
    }
   ],
   "source": [
    "heartDisease"
   ]
  },
  {
   "cell_type": "code",
   "execution_count": 8,
   "id": "5c516eb0-065b-4458-86f7-43f94302f9d1",
   "metadata": {},
   "outputs": [],
   "source": [
    "# Step 2: Bin the cholesterol levels\n",
    "bins = [0, 200, 240, 300] # 0-200: Low, 200-240: Medium, 240-300: High\n",
    "labels = ['Low', 'Medium', 'High']\n",
    "heartDisease['chol_bin'] = pd.cut(heartDisease['chol'], bins=bins, labels=labels)"
   ]
  },
  {
   "cell_type": "code",
   "execution_count": 11,
   "id": "4c053818-0d18-4d62-bc4f-23fe9d4950a2",
   "metadata": {},
   "outputs": [],
   "source": [
    "\n",
    "# Step 3: Define the Bayesian Network structure\n",
    "model = BayesianNetwork([\n",
    "    ('age', 'trestbps'),\n",
    "    ('age', 'fbs'),\n",
    "    ('sex', 'trestbps'),\n",
    "    ('exang', 'trestbps'),\n",
    "    ('trestbps', 'target'),\n",
    "    ('fbs', 'target'),\n",
    "    ('target', 'restecg'),\n",
    "    ('target', 'thalach'),\n",
    "    ('target', 'chol_bin')\n",
    "])"
   ]
  },
  {
   "cell_type": "code",
   "execution_count": 12,
   "id": "5ba23e92-ee71-4d13-ab5b-456b221d6e47",
   "metadata": {},
   "outputs": [],
   "source": [
    "# Step 4: Learn CPDs using Maximum Likelihood Estimators\n",
    "model.fit(heartDisease, estimator=MaximumLikelihoodEstimator)"
   ]
  },
  {
   "cell_type": "code",
   "execution_count": 38,
   "id": "ca0e8340-894f-4a12-a99e-8c77c79782db",
   "metadata": {},
   "outputs": [
    {
     "data": {
      "text/plain": [
       "<Figure size 1200x1000 with 0 Axes>"
      ]
     },
     "metadata": {},
     "output_type": "display_data"
    }
   ],
   "source": [
    "# Step 5: Visualize the Bayesian Network using NetworkX with enhanced clarity\n",
    "plt.figure(figsize=(12, 10))\n",
    "G = nx.DiGraph()"
   ]
  },
  {
   "cell_type": "code",
   "execution_count": 39,
   "id": "251da656-2b9f-448c-b3b3-c1b1a86af358",
   "metadata": {},
   "outputs": [],
   "source": [
    "# Add nodes and edges from the model\n",
    "for node in model.nodes():\n",
    "    G.add_node(node)\n",
    "for edge in model.edges():\n",
    "    G.add_edge(edge[0], edge[1])"
   ]
  },
  {
   "cell_type": "code",
   "execution_count": 40,
   "id": "76868bd4-93f5-4829-924a-b0889bbdd15d",
   "metadata": {},
   "outputs": [
    {
     "data": {
      "image/png": "[encoded data removed]",
      "text/plain": [
       "<Figure size 640x480 with 1 Axes>"
      ]
     },
     "metadata": {},
     "output_type": "display_data"
    }
   ],
   "source": [
    "# Define position layout and visual settings for clarity\n",
    "pos = nx.spring_layout(G, seed=42)  # Consistent layout\n",
    "nx.draw(G, pos, with_labels=True, arrows=True, \n",
    "        node_color='skyblue', node_size=3000, \n",
    "        edge_color='gray', font_size=12, font_weight='bold', \n",
    "        arrowsize=20, arrowstyle='-|>')"
   ]
  },
  {
   "cell_type": "code",
   "execution_count": 43,
   "id": "b2dc4900-b07a-48c0-b053-ee74ecc57aeb",
   "metadata": {},
   "outputs": [],
   "source": [
    "# Step 6: Inferencing with the Bayesian Network\n",
    "heartDisease_infer = VariableElimination(model)"
   ]
  },
  {
   "cell_type": "code",
   "execution_count": 44,
   "id": "e1bd3c0e-4db4-474c-865c-440c136bcd1b",
   "metadata": {},
   "outputs": [
    {
     "name": "stdout",
     "output_type": "stream",
     "text": [
      "\n",
      "1. Probability of Heart Disease given Age 35:\n",
      " +-----------+---------------+\n",
      "| target    |   phi(target) |\n",
      "+===========+===============+\n",
      "| target(0) |        0.2826 |\n",
      "+-----------+---------------+\n",
      "| target(1) |        0.7174 |\n",
      "+-----------+---------------+\n"
     ]
    }
   ],
   "source": [
    "# Query 1: Probability of Heart Disease given Age 35\n",
    "q1 = heartDisease_infer.query(variables=['target'], evidence={'age': 35})\n",
    "print('\\n1. Probability of Heart Disease given Age 35:\\n', q1)"
   ]
  },
  {
   "cell_type": "code",
   "execution_count": 45,
   "id": "e11208f3-cafc-4548-abf4-d2f419efa522",
   "metadata": {},
   "outputs": [
    {
     "name": "stdout",
     "output_type": "stream",
     "text": [
      "\n",
      "2. Probability of Heart Disease given High Cholesterol:\n",
      " +-----------+---------------+\n",
      "| target    |   phi(target) |\n",
      "+===========+===============+\n",
      "| target(0) |        0.5467 |\n",
      "+-----------+---------------+\n",
      "| target(1) |        0.4533 |\n",
      "+-----------+---------------+\n"
     ]
    }
   ],
   "source": [
    "# Query 2: Probability of Heart Disease given High Cholesterol\n",
    "q2 = heartDisease_infer.query(variables=['target'], evidence={'chol_bin': 'High'})\n",
    "print('\\n2. Probability of Heart Disease given High Cholesterol:\\n', q2)"
   ]
  },
  {
   "cell_type": "code",
   "execution_count": null,
   "id": "9595e779-2bf3-4c73-8594-66aecbfa388b",
   "metadata": {},
   "outputs": [],
   "source": []
  }
 ],
 "metadata": {
  "kernelspec": {
   "display_name": "Python 3 (ipykernel)",
   "language": "python",
   "name": "python3"
  },
  "language_info": {
   "codemirror_mode": {
    "name": "ipython",
    "version": 3
   },
   "file_extension": ".py",
   "mimetype": "text/x-python",
   "name": "python",
   "nbconvert_exporter": "python",
   "pygments_lexer": "ipython3",
   "version": "3.10.11"
  },
  "widgets": {
   "application/vnd.jupyter.widget-state+json": {
    "state": {},
    "version_major": 2,
    "version_minor": 0
   }
  }
 },
 "nbformat": 4,
 "nbformat_minor": 5
}
